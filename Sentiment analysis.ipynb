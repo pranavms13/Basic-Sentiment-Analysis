{
 "cells": [
  {
   "cell_type": "code",
   "execution_count": null,
   "metadata": {},
   "outputs": [],
   "source": [
    "import nltk\n",
    "nltk.download('stopwords')\n",
    "nltk.download('punkt')"
   ]
  },
  {
   "cell_type": "code",
   "execution_count": 20,
   "metadata": {},
   "outputs": [],
   "source": [
    "import nltk.classify.util\n",
    "from nltk.classify import NaiveBayesClassifier\n",
    "from nltk.corpus import names\n",
    "from nltk.tokenize import word_tokenize\n",
    "from nltk.corpus import stopwords\n",
    "\n",
    "def word_feats(words):\n",
    "    return dict([(word, True) for word in words])\n",
    " \n",
    "positive_vocab = [ 'love', 'best', 'awesome', 'outstanding', 'fantastic', 'terrific', 'good', 'nice', 'great', ':)']\n",
    "negative_vocab = [ 'bad', 'terrible','useless', 'hate', ':(', 'worst' ]\n",
    "neutral_vocab = [ 'real', 'book', 'movie','the','sound','was','is','actors','did','know','words','not', 'people', 'couples']\n",
    "\n",
    "positive_features = [(word_feats(pos), 'pos') for pos in positive_vocab]\n",
    "negative_features = [(word_feats(neg), 'neg') for neg in negative_vocab]\n",
    "neutral_features = [(word_feats(neu), 'neu') for neu in neutral_vocab]\n",
    " \n",
    "train_set = negative_features + positive_features + neutral_features\n",
    " \n",
    "classifier = NaiveBayesClassifier.train(train_set)"
   ]
  },
  {
   "cell_type": "code",
   "execution_count": 23,
   "metadata": {},
   "outputs": [
    {
     "name": "stdout",
     "output_type": "stream",
     "text": [
      "Enter the sentence : i kind of like the books that you gave me\n",
      "['kind', 'like', 'books', 'gave']\n",
      "Positive: 100.0%\n",
      "Negative: 0.0%\n"
     ]
    }
   ],
   "source": [
    "sentence = input(\"Enter the sentence : \")\n",
    "sentence = sentence.lower()\n",
    "stop_words = stopwords.words('english')\n",
    "words = word_tokenize(sentence)\n",
    "words_filtered = words[:]\n",
    "for word in words:\n",
    "    if word in stop_words:        \n",
    "        words_filtered.remove(word)\n",
    "\n",
    "print(words_filtered)\n",
    "# Predict\n",
    "neg = 0\n",
    "pos = 0\n",
    "\n",
    "for word in words_filtered:\n",
    "    classResult = classifier.classify(word_feats(word))\n",
    "    if classResult == 'pos':\n",
    "        pos = pos + 1\n",
    "    if classResult == 'neg':\n",
    "        neg = neg + 1\n",
    "\n",
    "if(pos+neg!=0):\n",
    "    print('Positive: ' + str(round((float(pos)/(pos+neg)*100),2)) + \"%\")\n",
    "    print('Negative: ' + str(round((float(neg)/(pos+neg)*100),2)) + \"%\")\n",
    "else:\n",
    "    print('Neutral')"
   ]
  },
  {
   "cell_type": "raw",
   "metadata": {},
   "source": []
  }
 ],
 "metadata": {
  "kernelspec": {
   "display_name": "Python 3",
   "language": "python",
   "name": "python3"
  },
  "language_info": {
   "codemirror_mode": {
    "name": "ipython",
    "version": 3
   },
   "file_extension": ".py",
   "mimetype": "text/x-python",
   "name": "python",
   "nbconvert_exporter": "python",
   "pygments_lexer": "ipython3",
   "version": "3.7.3"
  }
 },
 "nbformat": 4,
 "nbformat_minor": 2
}
